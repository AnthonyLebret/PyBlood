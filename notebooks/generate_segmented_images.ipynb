{
 "cells": [
  {
   "cell_type": "code",
   "execution_count": 80,
   "id": "3ad0e9fc",
   "metadata": {},
   "outputs": [],
   "source": [
    "import pandas as pd\n",
    "import numpy as np\n",
    "import matplotlib.pyplot as plt\n",
    "import cv2\n",
    "import scipy\n",
    "from pathlib import Path\n",
    "from dask import bag, diagnostics\n",
    "from skimage import transform"
   ]
  },
  {
   "cell_type": "code",
   "execution_count": 81,
   "id": "8820dce3",
   "metadata": {},
   "outputs": [],
   "source": [
    "df = pd.read_csv(\"dataset.csv\")"
   ]
  },
  {
   "cell_type": "code",
   "execution_count": 82,
   "id": "f0bd1175",
   "metadata": {},
   "outputs": [],
   "source": [
    "def process_image(img):\n",
    "    \n",
    "    central_contour_found=0\n",
    "    \n",
    "    img_gray = (img[:,:,0]+img[:,:,2])/(2*img[:,:,1])  # (R+G)/(2*B) -> Pour faire ressortir la cellule qui\n",
    "                                                                          # a une couleur plus bleutée/violacée\n",
    "    img_gray2 = img_gray.copy()\n",
    "    for i in range(img_gray2.shape[0]):\n",
    "        for j in range(img_gray2.shape[1]):\n",
    "\n",
    "                if img_gray[i][j]<5:    # Si valeur pixel < 5, prend la valeur 0\n",
    "                          img_gray2[i,j]=0\n",
    "\n",
    "    ret, thresh = cv2.threshold(img_gray2.astype(np.uint8),0,255,cv2.THRESH_BINARY_INV)  # Seuillage (Thresholding)\n",
    "\n",
    "    kernel = np.ones((3,3),np.uint8)\n",
    "    opening = cv2.morphologyEx(thresh, cv2.MORPH_OPEN, kernel, iterations = 15) # Ouverture (Opening -> erosion + dilatation)\n",
    "\n",
    "    \n",
    "    # Zone de background sûre\n",
    "    sure_bg = cv2.dilate(opening, kernel, iterations=10) # Dilatation\n",
    "\n",
    "    cell_mask = cv2.bitwise_not(sure_bg) # Inversion des pixels\n",
    "    \n",
    "    contour,hier = cv2.findContours(cell_mask, cv2.RETR_CCOMP, cv2.CHAIN_APPROX_SIMPLE) # Recherche des contours de la cellule\n",
    "    for cnt in contour:\n",
    "        cv2.drawContours(cell_mask,[cnt],0,255,-1) # Dessin des contours de la cellule\n",
    "\n",
    "    sure_bg = cv2.bitwise_not(cell_mask) # Inversion des pixels\n",
    "\n",
    "    img_gray3 = np.ones(sure_bg.shape)*255 # Matrice de pixels blancs    \n",
    "    ret, thresh2 = cv2.threshold(sure_bg, 127, 255, 0) # Seuillage du background (élimination du bruit)\n",
    "    \n",
    "    contours, hierarchy = cv2.findContours(thresh2, cv2.RETR_TREE, cv2.CHAIN_APPROX_SIMPLE) # Recherche des contours du background\n",
    "    image = cv2.drawContours(img_gray3, contours, -1, (0, 255, 0), 1) # Dessin des contours du background\n",
    "\n",
    "    img_gray4 = np.ones(sure_bg.shape)*255 # Matrice de pixels blancs\n",
    "    \n",
    "    \n",
    "    # Recherche du contour central\n",
    "    m=[]\n",
    "    for ip in range(len(contours)):\n",
    "        x=[contours[ip][:,:,0].mean(),contours[ip][:,:,1].mean()]\n",
    "        m.append(np.sqrt((x[0]-sure_bg.shape[0]/2)**2+ (x[0]-sure_bg.shape[0]/2)**2))\n",
    "        \n",
    "    if len(m)>1:    # Si len(m) > 1, il s'agit du contour central\n",
    "        m=m[1:]\n",
    "        contour_center=contours[np.argmin(m)+1]\n",
    "\n",
    "        image2=cv2.drawContours(img_gray4, [contour_center], -1, (0, 255, 0), 1) # Dessin du contour central\n",
    "        dist_transform = cv2.distanceTransform(image2.astype(np.uint8), cv2.DIST_L2,5) # Algorithme de distanceTransform\n",
    "\n",
    "        ret, sure_fg = cv2.threshold(dist_transform,0.1*dist_transform.max(),255,0) # Masque du foreground (premier plan)\n",
    "        sure_fg = scipy.ndimage.binary_fill_holes(255-sure_fg).astype(int) # Remplissage des trous éventuels\n",
    "        img_seg = img.copy()                 \n",
    "        for k in [0,1,2]:\n",
    "            for i in range(img_seg.shape[0]):\n",
    "                for j in range(img_seg.shape[1]):\n",
    "                    if sure_fg [i,j]==0 :  # Si le pixel est dans le background\n",
    "                        img_seg[i,j,k]=0  # Il prend la valeur 0\n",
    "                        \n",
    "        return 1,img_seg   # segmentation réussie\n",
    "    \n",
    "    \n",
    "    elif len(m)==1:    # Si len(m) = 1, il ne s'agit pas du contour central\n",
    "        contour_center=contours[np.argmin(m)]\n",
    "\n",
    "        image2=cv2.drawContours(img_gray4, [contour_center], -1, (0, 255, 0), 1) # Dessin du contour central\n",
    "        dist_transform = cv2.distanceTransform(image2.astype(np.uint8), cv2.DIST_L2,5) # Algorithme de distanceTransform\n",
    "\n",
    "        ret, sure_fg = cv2.threshold(dist_transform,0.01*dist_transform.max(),255,0) # Masque du foreground (premier plan)\n",
    "        sure_fg = scipy.ndimage.binary_fill_holes(255-sure_fg).astype(int) # Remplissage des trous éventuels\n",
    "        img_seg = img.copy()              \n",
    "        for k in [0,1,2]:\n",
    "            for i in range(img_seg.shape[0]):\n",
    "                for j in range(img_seg.shape[1]):\n",
    "                    if sure_fg [i,j]!=0 :  # Si le pixel n'est pas dans le background\n",
    "                        img_seg[i,j,k]=0  # Il prend la valeur 0                       \n",
    "        \n",
    "        return 1,img_seg   # segmentation réussie\n",
    "    else: \n",
    "        return 0,img  # segmentation impossible, retour de l'image d'entrée"
   ]
  },
  {
   "cell_type": "code",
   "execution_count": 71,
   "id": "8f692d10",
   "metadata": {},
   "outputs": [
    {
     "name": "stderr",
     "output_type": "stream",
     "text": [
      "C:\\Users\\lebre\\AppData\\Local\\Temp\\ipykernel_17224\\1837351392.py:5: RuntimeWarning: divide by zero encountered in true_divide\n",
      "  img_gray = (img[:,:,0]+img[:,:,2])/(2*img[:,:,1])  # (R+G)/(2*B) -> Pour faire ressortir la cellule qui\n",
      "C:\\Users\\lebre\\AppData\\Local\\Temp\\ipykernel_17224\\1837351392.py:5: RuntimeWarning: invalid value encountered in true_divide\n",
      "  img_gray = (img[:,:,0]+img[:,:,2])/(2*img[:,:,1])  # (R+G)/(2*B) -> Pour faire ressortir la cellule qui\n"
     ]
    }
   ],
   "source": [
    "# Application de la segmentation à toutes les images et export\n",
    "'''\n",
    "for i in range(df.shape[0]):\n",
    "    img = cv2.imread(df.img_path[i])\n",
    "    success, img_seg = process_image(img)  # Appel de la fonction de segmentation ci-dessus\n",
    "    filename = df.img_path[i].split('\\\\')[-1]\n",
    "    cv2.imwrite(filename, img_seg)"
   ]
  },
  {
   "cell_type": "markdown",
   "id": "873e3e7c",
   "metadata": {},
   "source": [
    "### Génération du Dataframe pour les images segmentées"
   ]
  },
  {
   "cell_type": "code",
   "execution_count": 72,
   "id": "9dcd8961",
   "metadata": {},
   "outputs": [],
   "source": [
    "# Ajout des colonnes au Dataframe\n",
    "\n",
    "def add_columns(filename):\n",
    "    image = cv2.imread(filename)\n",
    "    temp = pd.DataFrame(index=[0])\n",
    "    return temp"
   ]
  },
  {
   "cell_type": "code",
   "execution_count": 73,
   "id": "647b7417",
   "metadata": {},
   "outputs": [],
   "source": [
    "# Création du Dataframe\n",
    "\n",
    "def generate_df_dask(path):\n",
    "    \n",
    "    path = Path(path)\n",
    "    \n",
    "    df = pd.DataFrame()\n",
    "    df['img_path'] = [str(image_path) for ext in ['jpg', 'tiff', 'png'] \n",
    "                      for image_path in path.glob(f'**/*.{ext}')]\n",
    "    \n",
    "    df['classes'] = [image_path.parts[-2] for ext in ['jpg', 'tiff', 'png'] \n",
    "                   for image_path in path.glob(f'**/*.{ext}')]\n",
    "\n",
    "    df['sub_classes'] = [image_path.stem.split('_')[0] \n",
    "                     for ext in ['jpg', 'tiff', 'png'] for image_path in path.glob(f'**/*.{ext}')]\n",
    "        \n",
    "    \n",
    "    addcol_bag = bag.from_sequence(df.img_path.to_list()).map(add_columns)\n",
    "    with diagnostics.ProgressBar():\n",
    "        res = addcol_bag.compute()\n",
    "        \n",
    "    res_df = pd.concat(res).reset_index(drop=True)\n",
    "    df = df.join(res_df)\n",
    "    return df"
   ]
  },
  {
   "cell_type": "code",
   "execution_count": 76,
   "id": "05b4f898",
   "metadata": {},
   "outputs": [
    {
     "name": "stdout",
     "output_type": "stream",
     "text": [
      "[########################################] | 100% Completed | 15.24 s\n"
     ]
    }
   ],
   "source": [
    "df = generate_df_dask(r'C:\\Users\\lebre\\Documents\\Jupyter Notebook\\PyBlood\\segmented_images')"
   ]
  },
  {
   "cell_type": "code",
   "execution_count": 78,
   "id": "0b1da5d2",
   "metadata": {},
   "outputs": [
    {
     "data": {
      "text/html": [
       "<div>\n",
       "<style scoped>\n",
       "    .dataframe tbody tr th:only-of-type {\n",
       "        vertical-align: middle;\n",
       "    }\n",
       "\n",
       "    .dataframe tbody tr th {\n",
       "        vertical-align: top;\n",
       "    }\n",
       "\n",
       "    .dataframe thead th {\n",
       "        text-align: right;\n",
       "    }\n",
       "</style>\n",
       "<table border=\"1\" class=\"dataframe\">\n",
       "  <thead>\n",
       "    <tr style=\"text-align: right;\">\n",
       "      <th></th>\n",
       "      <th>img_path</th>\n",
       "      <th>label</th>\n",
       "    </tr>\n",
       "  </thead>\n",
       "  <tbody>\n",
       "    <tr>\n",
       "      <th>count</th>\n",
       "      <td>16891</td>\n",
       "      <td>16891</td>\n",
       "    </tr>\n",
       "    <tr>\n",
       "      <th>unique</th>\n",
       "      <td>16891</td>\n",
       "      <td>11</td>\n",
       "    </tr>\n",
       "    <tr>\n",
       "      <th>top</th>\n",
       "      <td>C:\\Users\\lebre\\Documents\\Jupyter Notebook\\PyBl...</td>\n",
       "      <td>EO</td>\n",
       "    </tr>\n",
       "    <tr>\n",
       "      <th>freq</th>\n",
       "      <td>1</td>\n",
       "      <td>3117</td>\n",
       "    </tr>\n",
       "  </tbody>\n",
       "</table>\n",
       "</div>"
      ],
      "text/plain": [
       "                                                 img_path  label\n",
       "count                                               16891  16891\n",
       "unique                                              16891     11\n",
       "top     C:\\Users\\lebre\\Documents\\Jupyter Notebook\\PyBl...     EO\n",
       "freq                                                    1   3117"
      ]
     },
     "execution_count": 78,
     "metadata": {},
     "output_type": "execute_result"
    }
   ],
   "source": [
    "df.describe()"
   ]
  },
  {
   "cell_type": "code",
   "execution_count": 79,
   "id": "88039e66",
   "metadata": {},
   "outputs": [],
   "source": [
    "df.to_csv('dataset_imgs_seg.csv', index=False)"
   ]
  }
 ],
 "metadata": {
  "kernelspec": {
   "display_name": "Python 3 (ipykernel)",
   "language": "python",
   "name": "python3"
  },
  "language_info": {
   "codemirror_mode": {
    "name": "ipython",
    "version": 3
   },
   "file_extension": ".py",
   "mimetype": "text/x-python",
   "name": "python",
   "nbconvert_exporter": "python",
   "pygments_lexer": "ipython3",
   "version": "3.9.13"
  }
 },
 "nbformat": 4,
 "nbformat_minor": 5
}
